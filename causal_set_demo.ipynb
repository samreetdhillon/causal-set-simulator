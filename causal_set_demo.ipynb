{
 "cells": [
  {
   "cell_type": "markdown",
   "id": "a329a951",
   "metadata": {},
   "source": [
    "# Causal Set Simulator Demo\n",
    "\n",
    "This notebook demonstrates the use of the **Causal Set Simulator**.\n",
    "\n",
    "We will generate causal sets using three different models:\n",
    "1. **Sprinkling** into Minkowski spacetime (2D).\n",
    "2. **Transitive Percolation** (random partial order model).\n",
    "3. **Classical Sequential Growth (CSG)** (Rideout–Sorkin model).\n",
    "\n",
    "For each causal set we will compute and visualize:\n",
    "- Ordering fraction and dimension estimates (Myrheim–Meyer, Midpoint scaling).\n",
    "- Longest chain length and largest antichain size.\n",
    "- A curvature/action proxy based on interval volumes.\n"
   ]
  },
  {
   "cell_type": "code",
   "execution_count": null,
   "id": "c567eae6",
   "metadata": {},
   "outputs": [],
   "source": [
    "import numpy as np\n",
    "import matplotlib.pyplot as plt\n",
    "\n",
    "from causet_mc import (\n",
    "    sprinkle, causal_matrix, ordering_fraction, estimate_dimension, \n",
    "    longest_chain_length, largest_antichain, curvature_proxy, plot_causet,\n",
    "    transitive_percolation, midpoint_scaling_dimension, benincasa_dowker_action_proxy,\n",
    "    csg_sequential_growth\n",
    ")\n"
   ]
  },
  {
   "cell_type": "markdown",
   "id": "04beaafd",
   "metadata": {},
   "source": [
    "## 1. Sprinkling Demo\n",
    "Generate a causal set by sprinkling points uniformly in a 2D Minkowski diamond."
   ]
  },
  {
   "cell_type": "code",
   "execution_count": null,
   "id": "7e279afd",
   "metadata": {},
   "outputs": [],
   "source": [
    "N = 20\n",
    "points = sprinkle(N, dim=2)\n",
    "R = causal_matrix(points, dim=2)\n",
    "\n",
    "plot_causet(points, R, dim=2, title=\"Sprinkled Causal Set\")\n",
    "\n",
    "f = ordering_fraction(R)\n",
    "d_mm = estimate_dimension(f)\n",
    "d_mid, d_mid_std = midpoint_scaling_dimension(points, R)\n",
    "L = longest_chain_length(R)\n",
    "AC = largest_antichain(R)\n",
    "mean_dev, std_dev = curvature_proxy(R)\n",
    "\n",
    "print(f\"Ordering fraction: {f:.3f}\")\n",
    "print(f\"Estimated dimension (Myrheim–Meyer): {d_mm:.2f}\")\n",
    "print(f\"Midpoint-scaling dimension: {d_mid:.2f} ± {d_mid_std:.2f}\")\n",
    "print(f\"Longest chain length: {L}\")\n",
    "print(f\"Largest antichain size: {AC}\")\n",
    "print(f\"Curvature proxy (mean±std): {mean_dev:.3f} ± {std_dev:.3f}\")"
   ]
  },
  {
   "cell_type": "markdown",
   "id": "ebf88e91",
   "metadata": {},
   "source": [
    "## 2. Transitive Percolation Demo\n",
    "Generate a causal set via the transitive percolation model."
   ]
  },
  {
   "cell_type": "code",
   "execution_count": null,
   "id": "8287c98b",
   "metadata": {},
   "outputs": [],
   "source": [
    "N = 20\n",
    "p = 0.05\n",
    "points_p, R_p = transitive_percolation(N, p=p)\n",
    "\n",
    "plot_causet(points_p, R_p, dim=2, title=f\"Percolation Causal Set (p={p})\")\n",
    "\n",
    "f_p = ordering_fraction(R_p)\n",
    "d_mm_p = estimate_dimension(f_p)\n",
    "d_mid_p, d_mid_std_p = midpoint_scaling_dimension(points_p, R_p)\n",
    "L_p = longest_chain_length(R_p)\n",
    "AC_p = largest_antichain(R_p)\n",
    "mean_dev_p, std_dev_p = curvature_proxy(R_p)\n",
    "\n",
    "print(f\"Ordering fraction: {f_p:.3f}\")\n",
    "print(f\"Estimated dimension (Myrheim–Meyer): {d_mm_p:.2f}\")\n",
    "print(f\"Midpoint-scaling dimension: {d_mid_p:.2f} ± {d_mid_std_p:.2f}\")\n",
    "print(f\"Longest chain length: {L_p}\")\n",
    "print(f\"Largest antichain size: {AC_p}\")\n",
    "print(f\"Curvature proxy (mean±std): {mean_dev_p:.3f} ± {std_dev_p:.3f}\")"
   ]
  },
  {
   "cell_type": "markdown",
   "id": "ba252e9d",
   "metadata": {},
   "source": [
    "## 3. Classical Sequential Growth (CSG) Demo\n",
    "Generate a small causal set via CSG (exponential complexity)."
   ]
  },
  {
   "cell_type": "code",
   "execution_count": null,
   "id": "5438e66d",
   "metadata": {},
   "outputs": [],
   "source": [
    "N = 12\n",
    "a = 0.5\n",
    "points_csg, R_csg = csg_sequential_growth(N, geometric_a=a)\n",
    "\n",
    "plot_causet(points_csg, R_csg, dim=2, title=f\"CSG Causal Set (a={a})\")\n",
    "\n",
    "f_csg = ordering_fraction(R_csg)\n",
    "d_mm_csg = estimate_dimension(f_csg)\n",
    "d_mid_csg, d_mid_std_csg = midpoint_scaling_dimension(points_csg, R_csg)\n",
    "L_csg = longest_chain_length(R_csg)\n",
    "AC_csg = largest_antichain(R_csg)\n",
    "mean_dev_csg, std_dev_csg = curvature_proxy(R_csg)\n",
    "\n",
    "print(f\"Ordering fraction: {f_csg:.3f}\")\n",
    "print(f\"Estimated dimension (Myrheim–Meyer): {d_mm_csg:.2f}\")\n",
    "print(f\"Midpoint-scaling dimension: {d_mid_csg:.2f} ± {d_mid_std_csg:.2f}\")\n",
    "print(f\"Longest chain length: {L_csg}\")\n",
    "print(f\"Largest antichain size: {AC_csg}\")\n",
    "print(f\"Curvature proxy (mean±std): {mean_dev_csg:.3f} ± {std_dev_csg:.3f}\")"
   ]
  },
  {
   "cell_type": "markdown",
   "id": "65848604",
   "metadata": {},
   "source": [
    "## 4. Ensemble Comparison\n",
    "Compare observables across Sprinkling, Percolation, and CSG ensembles."
   ]
  },
  {
   "cell_type": "code",
   "execution_count": null,
   "id": "ed87e0c2",
   "metadata": {},
   "outputs": [],
   "source": [
    "trials = 20\n",
    "N = 20\n",
    "p = 0.05\n",
    "a = 0.5\n",
    "\n",
    "dims_sprinkle, dims_perc, dims_csg = [], [], []\n",
    "\n",
    "for _ in range(trials):\n",
    "    pts = sprinkle(N, dim=2)\n",
    "    R = causal_matrix(pts, dim=2)\n",
    "    dims_sprinkle.append(estimate_dimension(ordering_fraction(R)))\n",
    "\n",
    "    pts_p, R_p = transitive_percolation(N, p=p)\n",
    "    dims_perc.append(estimate_dimension(ordering_fraction(R_p)))\n",
    "\n",
    "    pts_c, R_c = csg_sequential_growth(12, geometric_a=a)\n",
    "    dims_csg.append(estimate_dimension(ordering_fraction(R_c)))\n",
    "\n",
    "plt.hist(dims_sprinkle, bins=10, alpha=0.5, label=\"Sprinkling\")\n",
    "plt.hist(dims_perc, bins=10, alpha=0.5, label=\"Percolation\")\n",
    "plt.hist(dims_csg, bins=10, alpha=0.5, label=\"CSG (N=12)\")\n",
    "plt.xlabel(\"Estimated Dimension (Myrheim–Meyer)\")\n",
    "plt.ylabel(\"Frequency\")\n",
    "plt.legend()\n",
    "plt.title(\"Dimension Estimates Across Models\")\n",
    "plt.show()"
   ]
  },
  {
   "cell_type": "markdown",
   "id": "36e1d768",
   "metadata": {},
   "source": [
    "## Conclusion\n",
    "\n",
    "We demonstrated three causal set growth models (Sprinkling, Percolation, CSG), \n",
    "computed key observables, and compared ensemble statistics.  \n",
    "\n",
    "This notebook can serve as:\n",
    "- A **teaching tool** to understand causal set theory.  \n",
    "- A **research tool** for comparing properties of different models.  \n",
    "\n",
    "Next steps:\n",
    "- Explore larger ensembles (with sprinkling and percolation).  \n",
    "- Compare BD-action proxies across models.  \n",
    "- Extend with Classical Sequential Growth approximations for larger N.  \n"
   ]
  }
 ],
 "metadata": {},
 "nbformat": 4,
 "nbformat_minor": 5
}
